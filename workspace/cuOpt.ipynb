{
 "cells": [
  {
   "cell_type": "code",
   "execution_count": 1,
   "id": "74d1261d-f0b9-4aa6-97c9-aef58b92555c",
   "metadata": {},
   "outputs": [],
   "source": [
    "import json\n",
    "import os\n",
    "import time\n",
    "\n",
    "import requests\n",
    "\n",
    "from utils import create_from_file, get_optimized_routes, load_generator"
   ]
  },
  {
   "cell_type": "code",
   "execution_count": 2,
   "id": "5708bb7e-ce77-47be-83b1-cd90642cbdac",
   "metadata": {},
   "outputs": [],
   "source": [
    "with open(\"data/cuopt-payload.json\", \"r\") as f:\n",
    "    data = json.load(f)\n",
    "    payload = {\"data\": data}"
   ]
  },
  {
   "cell_type": "markdown",
   "id": "c21cbc08-4ae7-465f-ac98-8bfd925b2f89",
   "metadata": {},
   "source": [
    "# NVCF Deployment"
   ]
  },
  {
   "cell_type": "code",
   "execution_count": 3,
   "id": "58ba89cf-77c2-410d-a306-258990e9296c",
   "metadata": {},
   "outputs": [],
   "source": [
    "NGC_API_KEY = os.getenv(\"NGC_API_KEY\")\n",
    "invoke_url = \"https://api.nvcf.nvidia.com/v2/nvcf/pexec/functions/a8678a90-e79a-4e8f-b8fc-ac83c078046e\"\n",
    "fetch_url_format = \"https://api.nvcf.nvidia.com/v2/nvcf/pexec/status/\"\n",
    "fetch_url = invoke_url\n",
    "headers = {\n",
    "    \"Accept\": \"application/json\",\n",
    "    \"Authorization\": f\"Bearer {NGC_API_KEY}\",\n",
    "    \"NVCF-POLL-SECONDS\": \"1\",\n",
    "}"
   ]
  },
  {
   "cell_type": "code",
   "execution_count": 4,
   "id": "db26db3b-c408-4291-8a20-774c5e7dad42",
   "metadata": {},
   "outputs": [
    {
     "data": {
      "text/plain": [
       "{'solver_response': {'status': 0,\n",
       "  'num_vehicles': 2,\n",
       "  'solution_cost': 2.0,\n",
       "  'objective_values': {'cost': 2.0},\n",
       "  'vehicle_data': {'veh-1': {'task_id': ['Break', 'Task-A'],\n",
       "    'arrival_stamp': [1.0, 2.0],\n",
       "    'type': ['Break', 'Delivery'],\n",
       "    'route': [1, 1]},\n",
       "   'veh-2': {'task_id': ['Depot', 'Break', 'Task-B', 'Depot'],\n",
       "    'arrival_stamp': [2.0, 2.0, 4.0, 5.0],\n",
       "    'type': ['Depot', 'Break', 'Delivery', 'Depot'],\n",
       "    'route': [0, 0, 2, 0]}},\n",
       "  'dropped_tasks': {'task_id': [], 'task_index': []}},\n",
       " 'perf_times': {'etl_time': 0.09974002838134766,\n",
       "  'solver_run_time': 3.356839179992676}}"
      ]
     },
     "execution_count": 4,
     "metadata": {},
     "output_type": "execute_result"
    }
   ],
   "source": [
    "response = get_optimized_routes(invoke_url, payload, headers, fetch_url_format)\n",
    "response[\"response\"]"
   ]
  },
  {
   "cell_type": "code",
   "execution_count": 5,
   "id": "7384d431-fce0-4303-ac91-74488c8a4a84",
   "metadata": {},
   "outputs": [],
   "source": [
    "responses = load_generator(\n",
    "    num_requests=10,\n",
    "    concurrency=1,\n",
    "    url=invoke_url,\n",
    "    payloads=[payload],\n",
    "    timeout=30,\n",
    "    request_delay=0.05,\n",
    "    headers=headers,\n",
    "    fetch_url_format=fetch_url_format,\n",
    ")"
   ]
  },
  {
   "cell_type": "markdown",
   "id": "d684f712-bcf3-411f-926c-e0868df14eba",
   "metadata": {},
   "source": [
    "# Benchmark Gehring & Homberger\n",
    "## Capacitated Vehicle Routing Problem with Time Windows (CVRPTW)\n",
    "\n",
    "Here we are demonstrating this performance on a large popular academic [dataset by Gehring & Homberger](https://www.sintef.no/projectweb/top/vrptw/homberger-benchmark/). These problems are well studied and used as the basis for comparison for VRP research and product offerings. The particular instance we will test with is from the group of largest (1000 location) problems. Each problem instance has an associated best known solution, the one we will measure against is shown below\n",
    "\n",
    "API Reference: [cuOpt Server Documentation](https://docs.nvidia.com/cuopt/serv_api.html)"
   ]
  },
  {
   "cell_type": "code",
   "execution_count": 6,
   "id": "bdf2b0db-bed2-46c5-93c1-f1c03dc1592f",
   "metadata": {},
   "outputs": [],
   "source": [
    "import os\n",
    "\n",
    "import msgpack\n",
    "import numpy as np\n",
    "import pandas as pd\n",
    "from scipy.spatial import distance"
   ]
  },
  {
   "cell_type": "code",
   "execution_count": 7,
   "id": "d87da7b0-12e2-477b-ac11-ed204c9ee806",
   "metadata": {},
   "outputs": [],
   "source": [
    "homberger_1000_file = \"data/C1_10_1.TXT\"\n",
    "best_known_solution = {\"n_vehicles\": 100, \"cost\": 42478.95}"
   ]
  },
  {
   "cell_type": "code",
   "execution_count": 8,
   "id": "662c2ede-2220-4e2e-b08e-041d6c830162",
   "metadata": {},
   "outputs": [
    {
     "name": "stderr",
     "output_type": "stream",
     "text": [
      "/workspace/utils.py:191: FutureWarning: The behavior of DataFrame concatenation with empty or all-NA entries is deprecated. In a future version, this will no longer exclude empty or all-NA columns when determining the result dtypes. To retain the old behavior, exclude the relevant entries before the concat operation.\n",
      "  df = pd.concat([df, pd.DataFrame(row, index=[0])], ignore_index=True)\n"
     ]
    },
    {
     "name": "stdout",
     "output_type": "stream",
     "text": [
      "Number of locations          :  1000\n",
      "Number of vehicles available :  250\n",
      "Capacity of each vehicle     :  200\n"
     ]
    }
   ],
   "source": [
    "orders, vehicle_capacity, n_vehicles = create_from_file(homberger_1000_file)\n",
    "n_locations = orders[\"demand\"].shape[0] - 1\n",
    "print(\"Number of locations          : \", n_locations)\n",
    "print(\"Number of vehicles available : \", n_vehicles)\n",
    "print(\"Capacity of each vehicle     : \", vehicle_capacity)"
   ]
  },
  {
   "cell_type": "markdown",
   "id": "81ac1501-97f6-4088-989f-b9cdf9584772",
   "metadata": {},
   "source": [
    "## Cost Matrix"
   ]
  },
  {
   "cell_type": "code",
   "execution_count": 9,
   "id": "6bebc685-f4ab-459a-8b2e-444c1785bfe5",
   "metadata": {},
   "outputs": [],
   "source": [
    "cuopt_problem_data = {}\n",
    "\n",
    "coords = list(zip(orders[\"xcord\"].to_list(), orders[\"ycord\"].to_list()))\n",
    "\n",
    "cost_matrix = (\n",
    "    pd.DataFrame(distance.cdist(coords, coords, \"euclidean\"))\n",
    "    .astype(np.float32)\n",
    "    .values.tolist()\n",
    ")"
   ]
  },
  {
   "cell_type": "markdown",
   "id": "fa3cc870-494a-4dd2-ad1a-9b32a26cdf1b",
   "metadata": {},
   "source": [
    "## Set Cost Matrix"
   ]
  },
  {
   "cell_type": "code",
   "execution_count": 10,
   "id": "d7276eb8-0ea8-45a3-bdb8-443b9a3a186b",
   "metadata": {},
   "outputs": [],
   "source": [
    "cuopt_problem_data[\"cost_matrix_data\"] = {\"data\": {\"0\": cost_matrix}}"
   ]
  },
  {
   "cell_type": "markdown",
   "id": "a583b3e3-b4b5-42fc-8449-13ddad19eafd",
   "metadata": {},
   "source": [
    "## Set Fleet Data"
   ]
  },
  {
   "cell_type": "code",
   "execution_count": 11,
   "id": "3f4460a2-67e6-482b-b779-6ca2caf31d35",
   "metadata": {},
   "outputs": [],
   "source": [
    "vehicle_locations = [[0, 0]] * n_vehicles\n",
    "\n",
    "cuopt_problem_data[\"fleet_data\"] = {\n",
    "    \"vehicle_locations\": vehicle_locations,\n",
    "    \"capacities\": [[vehicle_capacity] * n_vehicles],\n",
    "}"
   ]
  },
  {
   "cell_type": "markdown",
   "id": "2614b8d3-3e74-47e0-9c7c-1cb36eba73c0",
   "metadata": {},
   "source": [
    "## Set Task Data"
   ]
  },
  {
   "cell_type": "code",
   "execution_count": 12,
   "id": "bb59cac1-929c-4dca-aad7-fb7265312ac3",
   "metadata": {},
   "outputs": [],
   "source": [
    "cuopt_problem_data[\"task_data\"] = {\n",
    "    \"task_locations\": orders[\"vertex\"].values.tolist(),\n",
    "    \"demand\": [orders[\"demand\"].values.tolist()],\n",
    "    \"task_time_windows\": [\n",
    "        list(i)\n",
    "        for i in list(\n",
    "            zip(\n",
    "                orders[\"earliest_time\"].values.tolist(),\n",
    "                orders[\"latest_time\"].values.tolist(),\n",
    "            )\n",
    "        )\n",
    "    ],\n",
    "    \"service_times\": orders[\"service_time\"].values.tolist(),\n",
    "}\n",
    "\n",
    "cuopt_problem_data[\"solver_config\"] = {\"time_limit\": 60.0}"
   ]
  },
  {
   "cell_type": "markdown",
   "id": "7aa23889-f7da-4942-bf42-e31a575caf6e",
   "metadata": {},
   "source": [
    "## Helper functions to solve and process the output"
   ]
  },
  {
   "cell_type": "code",
   "execution_count": 13,
   "id": "13a0243a-ed6c-45b1-ac24-1381ac04b9f7",
   "metadata": {},
   "outputs": [],
   "source": [
    "def solution_eval(vehicles, cost, best_known_solution):\n",
    "\n",
    "    print(f\"- cuOpt provides a solution using {vehicles} vehicles\")\n",
    "    print(\n",
    "        f\"- This represents {vehicles - best_known_solution['n_vehicles']} more than the best known solution\"\n",
    "    )\n",
    "    print(\n",
    "        f\"- Vehicle Percent Difference {(vehicles/best_known_solution['n_vehicles'] - 1)*100}% \\n\\n\"\n",
    "    )\n",
    "    print(f\"- In addition cuOpt provides a solution cost of {cost}\")\n",
    "    print(f\"- Best known solution cost is {best_known_solution['cost']}\")\n",
    "    print(f\"- Cost Percent Difference {(cost/best_known_solution['cost'] - 1)*100}%\")"
   ]
  },
  {
   "cell_type": "markdown",
   "id": "abd2454a-7766-49e2-a5f7-3d3d449dd21c",
   "metadata": {},
   "source": [
    "## Upload Asset for NVCF"
   ]
  },
  {
   "cell_type": "code",
   "execution_count": 14,
   "id": "034b09e7-55fd-4af1-9ce1-6a9f353367c8",
   "metadata": {},
   "outputs": [],
   "source": [
    "asset_headers = {\n",
    "    \"Authorization\": f\"Bearer {NGC_API_KEY}\",\n",
    "    \"accept\": \"application/json\",\n",
    "    \"Content-Type\": \"application/json\",\n",
    "}\n",
    "\n",
    "asset_data = {\n",
    "    \"contentType\": \"application/octet-stream\",\n",
    "    \"description\": \"Optimization-data\",\n",
    "}\n",
    "\n",
    "asset_response = requests.post(\n",
    "    \"https://api.nvcf.nvidia.com/v2/nvcf/assets\", headers=asset_headers, json=asset_data\n",
    ")"
   ]
  },
  {
   "cell_type": "code",
   "execution_count": 15,
   "id": "85848ff7-fe9a-4ba5-ad8a-66b4b96b7262",
   "metadata": {},
   "outputs": [],
   "source": [
    "pickled_cuopt_data = msgpack.dump(cuopt_problem_data, open(\"problem_data.mpk\", \"wb\"))"
   ]
  },
  {
   "cell_type": "code",
   "execution_count": 16,
   "id": "db979c1d-66da-4be2-9ede-f89048224566",
   "metadata": {},
   "outputs": [],
   "source": [
    "asset_submit_headers = {\n",
    "    \"Content-Type\": \"application/octet-stream\",\n",
    "    \"x-amz-meta-nvcf-asset-description\": \"Optimization-data\",\n",
    "}\n",
    "\n",
    "with open(\"problem_data.mpk\", \"rb\") as f:\n",
    "    response = requests.put(\n",
    "        asset_response.json()[\"uploadUrl\"], headers=asset_submit_headers, data=f\n",
    "    )"
   ]
  },
  {
   "cell_type": "code",
   "execution_count": 17,
   "id": "ececaef1-d257-4256-ba0c-d731a9f0f2eb",
   "metadata": {},
   "outputs": [],
   "source": [
    "headers[\"NVCF-INPUT-ASSET-REFERENCES\"] = asset_response.json()[\"assetId\"]"
   ]
  },
  {
   "cell_type": "markdown",
   "id": "b69d4bc7-1155-49e6-ba85-948ebc7fdf22",
   "metadata": {},
   "source": [
    "## Get Optimized Results\n",
    "Update solver config and test different run-time\n",
    "\n",
    "_1 Minute Time Limit_\n",
    "\n",
    "> **Note**: due to the large amount of data network transfer time can exceed the requested solve time."
   ]
  },
  {
   "cell_type": "code",
   "execution_count": 18,
   "id": "0847cc4d-2f72-4a10-933a-7b3ed5a9b541",
   "metadata": {},
   "outputs": [
    {
     "data": {
      "text/plain": [
       "{'etl_time': 5.139536619186401, 'solver_run_time': 126.35744833946228}"
      ]
     },
     "execution_count": 18,
     "metadata": {},
     "output_type": "execute_result"
    }
   ],
   "source": [
    "no_data = {\"data\": None, \"client_version\": \"custom\"}\n",
    "\n",
    "# Solve the problem\n",
    "solver_response = get_optimized_routes(invoke_url, no_data, headers, fetch_url_format)\n",
    "solver_response[\"response\"][\"perf_times\"]"
   ]
  },
  {
   "cell_type": "code",
   "execution_count": 19,
   "id": "7f45c863-db34-4f55-b750-cc5ea344508e",
   "metadata": {},
   "outputs": [
    {
     "name": "stdout",
     "output_type": "stream",
     "text": [
      "- cuOpt provides a solution using 169 vehicles\n",
      "- This represents 69 more than the best known solution\n",
      "- Vehicle Percent Difference 69.0% \n",
      "\n",
      "\n",
      "- In addition cuOpt provides a solution cost of 49737.9153342247\n",
      "- Best known solution cost is 42478.95\n",
      "- Cost Percent Difference 17.088382208657936%\n"
     ]
    }
   ],
   "source": [
    "# Process returned data\n",
    "solver_resp = solver_response[\"response\"][\"solver_response\"]\n",
    "\n",
    "# Evaluation\n",
    "solution_eval(\n",
    "    solver_resp[\"num_vehicles\"], solver_resp[\"solution_cost\"], best_known_solution\n",
    ")"
   ]
  }
 ],
 "metadata": {
  "kernelspec": {
   "display_name": "Python 3 (ipykernel)",
   "language": "python",
   "name": "python3"
  },
  "language_info": {
   "codemirror_mode": {
    "name": "ipython",
    "version": 3
   },
   "file_extension": ".py",
   "mimetype": "text/x-python",
   "name": "python",
   "nbconvert_exporter": "python",
   "pygments_lexer": "ipython3",
   "version": "3.12.3"
  }
 },
 "nbformat": 4,
 "nbformat_minor": 5
}
